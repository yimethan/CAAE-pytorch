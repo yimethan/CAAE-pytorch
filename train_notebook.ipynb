{
 "cells": [
  {
   "cell_type": "code",
   "execution_count": 1,
   "id": "ca7d1d59",
   "metadata": {},
   "outputs": [],
   "source": [
    "import torch\n",
    "import torch.nn.functional as F\n",
    "import numpy as np\n",
    "from sklearn.metrics import confusion_matrix\n",
    "from torch.optim import Adam, lr_scheduler\n",
    "from torch.utils.tensorboard import SummaryWriter\n",
    "from torch.utils.data import random_split, DataLoader\n",
    "\n",
    "from config import Config\n",
    "from caae import *\n",
    "from load_dataset import *"
   ]
  },
  {
   "cell_type": "code",
   "execution_count": 2,
   "id": "671edbef",
   "metadata": {},
   "outputs": [],
   "source": [
    "writer = SummaryWriter()"
   ]
  },
  {
   "cell_type": "code",
   "execution_count": 3,
   "id": "aa51da41",
   "metadata": {},
   "outputs": [],
   "source": [
    "def gradient_penalty(real_samples, g_samples, discriminator):\n",
    "    \"\"\"\n",
    "    calculates the gradient penalty term used in the Wasserstein GAN with Gradient Penalty (WGAN-GP) loss\n",
    "    :param real_samples: Real data samples from the dataset\n",
    "    :param g_samples: Generated samples produced by the generator\n",
    "    :param discriminator: The discriminator network\n",
    "    :return: The calculated gradient penalty is returned as the output of the function\n",
    "    \"\"\"\n",
    "    batch_size = real_samples.size(0)\n",
    "    alpha = torch.rand(batch_size, 1)\n",
    "    alpha = alpha.expand(batch_size, real_samples.size(1))  # Make alpha the same size as real_samples\n",
    "    interpolates = alpha * real_samples + ((1 - alpha) * g_samples)\n",
    "    # a linear combination of real_samples and g_samples using the alpha factor\n",
    "    # represents the points between real and generated data in the input space\n",
    "\n",
    "    interpolates.requires_grad_(True)  # Enable gradient computation\n",
    "    d_interpolates = discriminator(interpolates)\n",
    "\n",
    "    gradients = torch.autograd.grad(outputs=d_interpolates, inputs=interpolates,\n",
    "                                    grad_outputs=torch.ones(d_interpolates.size()),\n",
    "                                    create_graph=True, retain_graph=True, only_inputs=True)[0]\n",
    "\n",
    "    slopes = torch.sqrt(torch.sum(gradients ** 2, dim=1))\n",
    "    g_penalty = torch.mean((slopes - 1.) ** 2)\n",
    "\n",
    "    return g_penalty"
   ]
  },
  {
   "cell_type": "code",
   "execution_count": 4,
   "id": "123f2707",
   "metadata": {},
   "outputs": [],
   "source": [
    "def evaluate(y_true, y_pred, epoch):\n",
    "    tn, fp, fn, tp = confusion_matrix(y_true, y_pred).ravel()\n",
    "    fnr = fn / (tp + fn)\n",
    "    err = (fn + fp) / (tp + tn + fp + fn)\n",
    "    precision = tp / (tp + fp)\n",
    "    recall = 1 - fnr\n",
    "    f1score = (2 * precision * recall) / (precision + recall)\n",
    "\n",
    "    print('---Test results-------')\n",
    "\n",
    "    print(tp, fn)\n",
    "    print(fp, tn)\n",
    "    print('False negative rate: ', fnr)\n",
    "    print('Error rate: ', err)\n",
    "    print('Precision: ', precision)\n",
    "    print('Recall: ', recall)\n",
    "    print('F1 score: ', f1score)\n",
    "\n",
    "    writer.add_scalar('test/False_negative_rate', fnr, epoch)\n",
    "    writer.add_scalar('test/Error_rate', err, epoch)\n",
    "    writer.add_scalar('test/Precision', precision, epoch)\n",
    "    writer.add_scalar('test/Recall', recall, epoch)\n",
    "    writer.add_scalar('test/F1_score', f1score, epoch)"
   ]
  },
  {
   "cell_type": "code",
   "execution_count": null,
   "id": "6116ade4",
   "metadata": {},
   "outputs": [],
   "source": [
    "encoder = Encoder()\n",
    "decoder = Decoder()\n",
    "discriminator_g = Discriminator('g')\n",
    "discriminator_c = Discriminator('c')"
   ]
  }
 ],
 "metadata": {
  "kernelspec": {
   "display_name": "Python 3 (ipykernel)",
   "language": "python",
   "name": "python3"
  },
  "language_info": {
   "codemirror_mode": {
    "name": "ipython",
    "version": 3
   },
   "file_extension": ".py",
   "mimetype": "text/x-python",
   "name": "python",
   "nbconvert_exporter": "python",
   "pygments_lexer": "ipython3",
   "version": "3.10.9"
  }
 },
 "nbformat": 4,
 "nbformat_minor": 5
}
