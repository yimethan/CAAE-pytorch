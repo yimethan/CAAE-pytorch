{
 "cells": [
  {
   "cell_type": "code",
   "execution_count": 1,
   "id": "ca7d1d59",
   "metadata": {},
   "outputs": [],
   "source": [
    "import torch\n",
    "import torch.nn.functional as F\n",
    "import numpy as np\n",
    "from sklearn.metrics import confusion_matrix\n",
    "from torch.optim import Adam, lr_scheduler\n",
    "from torch.utils.tensorboard import SummaryWriter\n",
    "from torch.utils.data import random_split, DataLoader\n",
    "\n",
    "from config import Config\n",
    "from caae import *\n",
    "from load_dataset import *"
   ]
  },
  {
   "cell_type": "code",
   "execution_count": 2,
   "id": "fd4d6a4e",
   "metadata": {},
   "outputs": [
    {
     "data": {
      "text/plain": [
       "<torch.autograd.anomaly_mode.set_detect_anomaly at 0x15f83eb33d0>"
      ]
     },
     "execution_count": 2,
     "metadata": {},
     "output_type": "execute_result"
    }
   ],
   "source": [
    "torch.autograd.set_detect_anomaly(True)"
   ]
  },
  {
   "cell_type": "code",
   "execution_count": 3,
   "id": "72402800",
   "metadata": {},
   "outputs": [],
   "source": [
    "device = torch.device('cuda' if torch.cuda.is_available() else 'cpu')"
   ]
  },
  {
   "cell_type": "code",
   "execution_count": 4,
   "id": "671edbef",
   "metadata": {},
   "outputs": [],
   "source": [
    "writer = SummaryWriter()"
   ]
  },
  {
   "cell_type": "code",
   "execution_count": 5,
   "id": "aa51da41",
   "metadata": {},
   "outputs": [],
   "source": [
    "def gradient_penalty(real_samples, fake_samples, discriminator):\n",
    "    # Generate random epsilon for interpolation\n",
    "    epsilon = torch.rand(real_samples.size(0), 1)\n",
    "    epsilon = epsilon.expand_as(real_samples).to(device)\n",
    "\n",
    "    # Interpolate between real and fake samples\n",
    "    interpolated = epsilon * real_samples + (1 - epsilon) * fake_samples\n",
    "    interpolated.requires_grad_(True).to(device)\n",
    "\n",
    "    # Calculate discriminator scores on the interpolated samples\n",
    "    d_interpolated = discriminator(interpolated).to(device)\n",
    "\n",
    "    # Compute gradients of the scores with respect to the interpolated samples\n",
    "    gradients = torch.autograd.grad(outputs=d_interpolated, inputs=interpolated,\n",
    "                                    grad_outputs=torch.ones(d_interpolated.size()).to(device),\n",
    "                                    create_graph=True, retain_graph=True, only_inputs=True)[0]\n",
    "\n",
    "    # Compute the gradient penalty\n",
    "    gradients = gradients.view(gradients.size(0), -1)\n",
    "    g_penalty = ((gradients.norm(2, dim=1) - 1) ** 2).mean()  # Penalty term\n",
    "\n",
    "    return g_penalty"
   ]
  },
  {
   "cell_type": "code",
   "execution_count": 6,
   "id": "123f2707",
   "metadata": {},
   "outputs": [],
   "source": [
    "def evaluate(y_true, y_pred, epoch):\n",
    "    tn, fp, fn, tp = confusion_matrix(y_true, y_pred).ravel()\n",
    "    fnr = fn / (tp + fn)\n",
    "    err = (fn + fp) / (tp + tn + fp + fn)\n",
    "    precision = tp / (tp + fp)\n",
    "    recall = 1 - fnr\n",
    "    f1score = (2 * precision * recall) / (precision + recall)\n",
    "\n",
    "    print('---Test results-------')\n",
    "\n",
    "    print('TP:', tp, 'FN:', fn)\n",
    "    print('FP:', fp, 'TN:', tn)\n",
    "    print('False negative rate: ', fnr)\n",
    "    print('Error rate: ', err)\n",
    "    print('Precision: ', precision)\n",
    "    print('Recall: ', recall)\n",
    "    print('F1 score: ', f1score)\n",
    "\n",
    "    writer.add_scalar('test/False_negative_rate', fnr, epoch)\n",
    "    writer.add_scalar('test/Error_rate', err, epoch)\n",
    "    writer.add_scalar('test/Precision', precision, epoch)\n",
    "    writer.add_scalar('test/Recall', recall, epoch)\n",
    "    writer.add_scalar('test/F1_score', f1score, epoch)"
   ]
  },
  {
   "cell_type": "code",
   "execution_count": 7,
   "id": "6116ade4",
   "metadata": {},
   "outputs": [],
   "source": [
    "encoder = Encoder().to(device)\n",
    "decoder = Decoder().to(device)\n",
    "discriminator_g = Disgauss().to(device)\n",
    "discriminator_c = Discateg().to(device)"
   ]
  },
  {
   "cell_type": "code",
   "execution_count": 8,
   "id": "3ac385a1",
   "metadata": {},
   "outputs": [],
   "source": [
    "autoencoder_optimizer = Adam(list(encoder.parameters()) + list(decoder.parameters()),\n",
    "                             lr=Config.reconstruction_lr, betas=(Config.beta1, Config.beta2))\n",
    "discriminator_g_optimizer = Adam(discriminator_g.parameters(), lr=Config.regularization_lr,\n",
    "                                 betas=(Config.beta1, Config.beta2))\n",
    "discriminator_c_optimizer = Adam(discriminator_c.parameters(), lr=Config.regularization_lr,\n",
    "                                 betas=(Config.beta1, Config.beta2))\n",
    "generator_optimizer = Adam(encoder.parameters(), lr=Config.regularization_lr, betas=(Config.beta1, Config.beta2))\n",
    "supervised_encoder_optimizer = Adam(encoder.parameters(), lr=Config.supervised_lr,\n",
    "                                    betas=(Config.beta1_sup, Config.beta2))"
   ]
  },
  {
   "cell_type": "code",
   "execution_count": 9,
   "id": "30f622c8",
   "metadata": {},
   "outputs": [],
   "source": [
    "reconstruction_scheduler = lr_scheduler.StepLR(autoencoder_optimizer, step_size=50, gamma=0.9)\n",
    "supervised_scheduler = lr_scheduler.StepLR(supervised_encoder_optimizer, step_size=50, gamma=0.9)\n",
    "disc_g_scheduler = lr_scheduler.StepLR(discriminator_g_optimizer, step_size=50, gamma=0.9)\n",
    "disc_c_scheduler = lr_scheduler.StepLR(discriminator_c_optimizer, step_size=50, gamma=0.9)"
   ]
  },
  {
   "cell_type": "code",
   "execution_count": 10,
   "id": "d2222beb",
   "metadata": {},
   "outputs": [],
   "source": [
    "dataset = GetDataset()"
   ]
  },
  {
   "cell_type": "code",
   "execution_count": 11,
   "id": "c5d0e45e",
   "metadata": {},
   "outputs": [],
   "source": [
    "train_len = int(len(dataset) * 0.7)\n",
    "train_labeled_size = int(train_len * Config.labeled_percentage)\n",
    "train_unlabeled_size = train_len - train_labeled_size"
   ]
  },
  {
   "cell_type": "code",
   "execution_count": 12,
   "id": "9332ec88",
   "metadata": {},
   "outputs": [],
   "source": [
    "test_len = len(dataset) - train_len"
   ]
  },
  {
   "cell_type": "code",
   "execution_count": 13,
   "id": "36fd6595",
   "metadata": {},
   "outputs": [],
   "source": [
    "train_labeled_data, train_unlabeled_data, test_data = random_split(dataset,\n",
    "                                                                   [train_labeled_size, train_unlabeled_size, test_len])"
   ]
  },
  {
   "cell_type": "code",
   "execution_count": 14,
   "id": "d261f7f5",
   "metadata": {},
   "outputs": [],
   "source": [
    "train_labeled_loader = DataLoader(train_labeled_data, batch_size=Config.batch_size)\n",
    "train_unlabeled_loader = DataLoader(train_unlabeled_data, batch_size=Config.batch_size)\n",
    "test_loader = DataLoader(test_data, batch_size=Config.batch_size, shuffle=False)"
   ]
  },
  {
   "cell_type": "code",
   "execution_count": 15,
   "id": "15e1523f",
   "metadata": {},
   "outputs": [],
   "source": [
    "def one_epoch(epoch):\n",
    "    encoder.train()\n",
    "    decoder.train()\n",
    "    discriminator_g.train()\n",
    "    discriminator_c.train()\n",
    "\n",
    "    print(\"------------------ Epoch {}/{} ------------------\".format(epoch, Config.epochs))\n",
    "\n",
    "    for batch_idx, labeled in enumerate(train_labeled_loader):\n",
    "        unlabeled = next(iter(train_unlabeled_loader))\n",
    "\n",
    "        autoencoder_optimizer.zero_grad()\n",
    "        discriminator_g_optimizer.zero_grad()\n",
    "        discriminator_c_optimizer.zero_grad()\n",
    "        generator_optimizer.zero_grad()\n",
    "        supervised_encoder_optimizer.zero_grad()\n",
    "\n",
    "        x_labeled, y_labeled = labeled['input'].to(device), labeled['label'].to(device)\n",
    "        x_unlabeled, y_unlabeled = unlabeled['input'].to(device), unlabeled['label'].to(device)\n",
    "\n",
    "        z_real_dist = torch.randn(Config.batch_size, Config.z_dim) * 5.\n",
    "        real_cat_dist = torch.randint(low=0, high=2, size=(Config.batch_size,))\n",
    "        real_cat_dist = torch.eye(Config.n_labels)[real_cat_dist]  # one-hot encoded\n",
    "\n",
    "        z_real_dist = z_real_dist.to(device)\n",
    "        real_cat_dist = real_cat_dist.to(device)\n",
    "\n",
    "        encoder_output_label, encoder_output_latent = encoder(x_unlabeled)\n",
    "        decoder_input = torch.cat((encoder_output_label, encoder_output_latent), dim=1)\n",
    "        decoder_output = decoder(decoder_input).to(device)\n",
    "\n",
    "        autoencoder_loss = F.mse_loss(decoder_output, x_unlabeled)\n",
    "\n",
    "        autoencoder_loss.backward()\n",
    "        autoencoder_optimizer.step()\n",
    "\n",
    "        encoder_output_label = encoder_output_label.to(device)\n",
    "        encoder_output_latent = encoder_output_latent.to(device)\n",
    "\n",
    "        # wgan-gp\n",
    "        d_g_real = discriminator_g(z_real_dist).to(device)\n",
    "        d_g_fake = discriminator_g(encoder_output_latent).to(device)\n",
    "\n",
    "        d_g_fake = d_g_fake.detach()\n",
    "\n",
    "        real_penalty = gradient_penalty(z_real_dist, encoder_output_latent.detach(), discriminator_g).to(device)\n",
    "        dc_g_loss = -torch.mean(d_g_real) + torch.mean(d_g_fake) + 10.0 * real_penalty\n",
    "\n",
    "        dc_g_loss.backward()\n",
    "        discriminator_g_optimizer.step()\n",
    "\n",
    "        d_c_real = discriminator_c(real_cat_dist).to(device)\n",
    "        d_c_fake = discriminator_c(encoder_output_label).to(device)\n",
    "\n",
    "        d_c_fake = d_c_fake.detach()\n",
    "\n",
    "        fake_penalty = gradient_penalty(real_cat_dist, encoder_output_label.detach(), discriminator_c).to(device)\n",
    "        dc_c_loss = -torch.mean(d_c_real) + torch.mean(d_c_fake) + 10.0 * fake_penalty\n",
    "\n",
    "        dc_c_loss.backward()\n",
    "        discriminator_c_optimizer.step()\n",
    "\n",
    "        # generator\n",
    "        d_g_fake = d_g_fake.requires_grad_(True)\n",
    "        d_c_fake = d_c_fake.requires_grad_(True)\n",
    "        generator_loss = -torch.mean(d_g_fake) - torch.mean(d_c_fake)\n",
    "        # generator_loss.requires_grad_(True)\n",
    "\n",
    "        generator_loss.backward()\n",
    "        generator_optimizer.step()\n",
    "\n",
    "        # Semi-Supervised Classification Phase\n",
    "        encoder_output_label_, encoder_output_latent_ = encoder(x_labeled, supervised=True)\n",
    "\n",
    "        # Classification accuracy of encoder\n",
    "        output_label = torch.argmax(encoder_output_label_, dim=1)\n",
    "        correct_pred = output_label.eq(y_labeled)\n",
    "        accuracy = torch.mean(correct_pred.float())\n",
    "\n",
    "        supervised_encoder_loss = F.cross_entropy(encoder_output_label_, y_labeled)\n",
    "\n",
    "        supervised_encoder_loss.backward()\n",
    "        supervised_encoder_optimizer.step()\n",
    "\n",
    "    writer.add_scalar('train/loss/autoencoder_loss', autoencoder_loss, epoch)\n",
    "    writer.add_scalar('train/loss/dc_g_loss', dc_g_loss, epoch)\n",
    "    writer.add_scalar('train/loss/dc_c_loss', dc_c_loss, epoch)\n",
    "    writer.add_scalar('train/loss/generator_loss', generator_loss, epoch)\n",
    "    writer.add_scalar('train/loss/supervised_encoder_loss', supervised_encoder_loss, epoch)\n",
    "\n",
    "    writer.add_scalar('train/encoder_accuracy', accuracy, epoch)\n",
    "\n",
    "    writer.add_image('train/decoder_output', decoder_output[0], epoch)\n",
    "\n",
    "    reconstruction_scheduler.step()\n",
    "    supervised_scheduler.step()\n",
    "    disc_g_scheduler.step()\n",
    "    disc_c_scheduler.step()"
   ]
  },
  {
   "cell_type": "code",
   "execution_count": 16,
   "id": "1bd0f9db",
   "metadata": {},
   "outputs": [],
   "source": [
    "def test(epoch):\n",
    "    y_true = []\n",
    "    y_pred = []\n",
    "\n",
    "    with torch.no_grad():\n",
    "        encoder.eval()\n",
    "        decoder.eval()\n",
    "        discriminator_g.eval()\n",
    "        discriminator_c.eval()\n",
    "\n",
    "        for batch_idx, inputs in enumerate(test_loader):\n",
    "\n",
    "            x = inputs['input'].to(device)\n",
    "            y = inputs['label'].to(device)\n",
    "\n",
    "            batch_pred, batch_latent = encoder(x)\n",
    "\n",
    "            batch_label = y.cpu().numpy()\n",
    "            batch_pred = batch_pred.argmax(dim=1).cpu().numpy()\n",
    "\n",
    "            y_pred.extend(batch_pred.tolist())\n",
    "            y_true.extend(batch_label.tolist())\n",
    "\n",
    "        y_true = np.array(y_true)\n",
    "        y_pred = np.array(y_pred)\n",
    "\n",
    "        evaluate(y_true, y_pred, epoch)"
   ]
  },
  {
   "cell_type": "code",
   "execution_count": 17,
   "id": "b9bb7472",
   "metadata": {},
   "outputs": [],
   "source": [
    "def train():\n",
    "    for epoch in range(Config.epochs):\n",
    "\n",
    "        one_epoch(epoch)\n",
    "\n",
    "        test(epoch)"
   ]
  },
  {
   "cell_type": "code",
   "execution_count": null,
   "id": "53b5b2d9",
   "metadata": {},
   "outputs": [
    {
     "name": "stdout",
     "output_type": "stream",
     "text": [
      "------------------ Epoch 0/100 ------------------\n"
     ]
    }
   ],
   "source": [
    "train()"
   ]
  },
  {
   "cell_type": "code",
   "execution_count": null,
   "id": "b16e07dc",
   "metadata": {},
   "outputs": [],
   "source": [
    "writer.close()"
   ]
  },
  {
   "cell_type": "code",
   "execution_count": null,
   "id": "50cf043a",
   "metadata": {},
   "outputs": [],
   "source": [
    "torch.autograd.set_detect_anomaly(False)"
   ]
  },
  {
   "cell_type": "code",
   "execution_count": null,
   "id": "68d2980b",
   "metadata": {},
   "outputs": [],
   "source": []
  }
 ],
 "metadata": {
  "kernelspec": {
   "display_name": "Python 3 (ipykernel)",
   "language": "python",
   "name": "python3"
  },
  "language_info": {
   "codemirror_mode": {
    "name": "ipython",
    "version": 3
   },
   "file_extension": ".py",
   "mimetype": "text/x-python",
   "name": "python",
   "nbconvert_exporter": "python",
   "pygments_lexer": "ipython3",
   "version": "3.10.9"
  }
 },
 "nbformat": 4,
 "nbformat_minor": 5
}
