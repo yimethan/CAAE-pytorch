{
 "cells": [
  {
   "cell_type": "code",
   "execution_count": 5,
   "id": "0603355a",
   "metadata": {},
   "outputs": [],
   "source": [
    "import pandas as pd\n",
    "import numpy as np\n",
    "import os\n",
    "from PIL import Image"
   ]
  },
  {
   "cell_type": "code",
   "execution_count": 2,
   "id": "19659458",
   "metadata": {},
   "outputs": [],
   "source": [
    "save_path = '../dataset/CHD/id_image_29'"
   ]
  },
  {
   "cell_type": "code",
   "execution_count": 5,
   "id": "408707a5",
   "metadata": {},
   "outputs": [],
   "source": [
    "if not os.path.exists(save_path):\n",
    "    os.makedirs(save_path)"
   ]
  },
  {
   "cell_type": "code",
   "execution_count": 3,
   "id": "888cf5d8",
   "metadata": {},
   "outputs": [],
   "source": [
    "data_root = '../dataset/CHD/preprocessed'"
   ]
  },
  {
   "cell_type": "code",
   "execution_count": 4,
   "id": "595ae67b",
   "metadata": {},
   "outputs": [],
   "source": [
    "attacks = ['DoS', 'Fuzzy', 'gear', 'RPM']"
   ]
  },
  {
   "cell_type": "code",
   "execution_count": 8,
   "id": "59b91c53",
   "metadata": {},
   "outputs": [],
   "source": [
    "def convert_one_id(cid):\n",
    "    \n",
    "    cid = bin(int(cid, 16))[2:].zfill(29)\n",
    "    bits = list(map(int, list(cid)))\n",
    "        \n",
    "    res_ohv = np.array(bits).flatten()\n",
    "        \n",
    "    return res_ohv"
   ]
  },
  {
   "cell_type": "code",
   "execution_count": 41,
   "id": "ca2bb283",
   "metadata": {},
   "outputs": [
    {
     "name": "stdout",
     "output_type": "stream",
     "text": [
      "Start converting DoS...\n",
      "100000th data in process...\n",
      "127482 DoS images done converted\n",
      "Start converting Fuzzy...\n",
      "100000th data in process...\n",
      "132375 Fuzzy images done converted\n",
      "Start converting gear...\n",
      "100000th data in process...\n",
      "153212 gear images done converted\n",
      "Start converting RPM...\n",
      "100000th data in process...\n",
      "159370 RPM images done converted\n"
     ]
    }
   ],
   "source": [
    "for attack in attacks:\n",
    "    \n",
    "    print(f'Start converting {attack}...')\n",
    "    \n",
    "    attack_path = os.path.join(data_root, attack + '_dataset.csv')\n",
    "    \n",
    "    full_save_path = os.path.join(save_path, attack)\n",
    "        \n",
    "    if not os.path.exists(full_save_path):\n",
    "        os.mkdir(full_save_path)\n",
    "    \n",
    "    data = pd.read_csv(attack_path, low_memory=False)\n",
    "    \n",
    "    img_num = 0\n",
    "    \n",
    "    for i in range(0, len(data), 29):\n",
    "    \n",
    "        data_in_range = data.iloc[i:i+29]\n",
    "        id_in_range = data_in_range['ID']\n",
    "        flag_in_range = data_in_range['Flag']\n",
    "\n",
    "        if 'T' in flag_in_range.values:\n",
    "            label = 1\n",
    "        else:\n",
    "            label = 0\n",
    "\n",
    "        lines = []\n",
    "\n",
    "        for one_id in id_in_range:\n",
    "\n",
    "            line = convert_one_id(one_id)\n",
    "            lines.append(line)\n",
    "\n",
    "        lines = np.array(lines)\n",
    "        one_img = np.vstack(lines) * 255\n",
    "        \n",
    "        img = Image.fromarray(one_img.astype(np.uint8))\n",
    "        img.save(os.path.join(full_save_path, f'{label}_{img_num}.png'))\n",
    "        \n",
    "        img_num += 1\n",
    "\n",
    "        if img_num % 100000 == 0:\n",
    "            print(f'{img_num}th data in process...')\n",
    "            \n",
    "    print(img_num, attack, 'images done converted')"
   ]
  },
  {
   "cell_type": "code",
   "execution_count": 10,
   "id": "7208ab28",
   "metadata": {},
   "outputs": [
    {
     "name": "stdout",
     "output_type": "stream",
     "text": [
      "126406 DoS images\n",
      "../dataset/CHD/id_image_29\\DoS\\0_126405.png\n",
      "132375 Fuzzy images\n",
      "../dataset/CHD/id_image_29\\Fuzzy\\0_132374.png\n",
      "153212 gear images\n",
      "../dataset/CHD/id_image_29\\gear\\0_153211.png\n",
      "159370 RPM images\n",
      "../dataset/CHD/id_image_29\\RPM\\0_159369.png\n"
     ]
    }
   ],
   "source": [
    "for attack in attacks:\n",
    "    \n",
    "    under = os.listdir(os.path.join(save_path, attack))\n",
    "    print(len(under), attack, 'images')\n",
    "    \n",
    "    for i in under:\n",
    "        full = os.path.join(save_path, attack, i)\n",
    "        img = Image.open(full)\n",
    "        size = img.size\n",
    "        \n",
    "        if size[0] != 29 or size[1] != 29:\n",
    "            print(full)\n",
    "            \n",
    "        img.close()"
   ]
  },
  {
   "cell_type": "code",
   "execution_count": null,
   "id": "ad67f049",
   "metadata": {},
   "outputs": [],
   "source": []
  }
 ],
 "metadata": {
  "kernelspec": {
   "display_name": "Python 3 (ipykernel)",
   "language": "python",
   "name": "python3"
  },
  "language_info": {
   "codemirror_mode": {
    "name": "ipython",
    "version": 3
   },
   "file_extension": ".py",
   "mimetype": "text/x-python",
   "name": "python",
   "nbconvert_exporter": "python",
   "pygments_lexer": "ipython3",
   "version": "3.10.9"
  }
 },
 "nbformat": 4,
 "nbformat_minor": 5
}
